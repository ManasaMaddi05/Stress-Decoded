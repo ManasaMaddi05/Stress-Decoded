{
 "cells": [
  {
   "cell_type": "code",
   "execution_count": 1,
   "metadata": {},
   "outputs": [],
   "source": [
    "import pandas as pd\n",
    "import numpy as np"
   ]
  },
  {
   "cell_type": "code",
   "execution_count": 3,
   "metadata": {},
   "outputs": [
    {
     "ename": "ValueError",
     "evalue": "cannot reshape array of size 2 into shape (3)",
     "output_type": "error",
     "traceback": [
      "\u001b[0;31m---------------------------------------------------------------------------\u001b[0m",
      "\u001b[0;31mValueError\u001b[0m                                Traceback (most recent call last)",
      "Cell \u001b[0;32mIn[3], line 41\u001b[0m\n\u001b[1;32m     39\u001b[0m \u001b[38;5;28;01mfor\u001b[39;00m i \u001b[38;5;129;01min\u001b[39;00m \u001b[38;5;28mrange\u001b[39m(\u001b[38;5;28mlen\u001b[39m(df_raw) \u001b[38;5;241m-\u001b[39m \u001b[38;5;241m1\u001b[39m):\n\u001b[1;32m     40\u001b[0m     start_time \u001b[38;5;241m=\u001b[39m \u001b[38;5;28mfloat\u001b[39m(df_raw\u001b[38;5;241m.\u001b[39miloc[i, \u001b[38;5;241m0\u001b[39m])\n\u001b[0;32m---> 41\u001b[0m     acc_values \u001b[38;5;241m=\u001b[39m \u001b[43mdf_raw\u001b[49m\u001b[38;5;241;43m.\u001b[39;49m\u001b[43miloc\u001b[49m\u001b[43m[\u001b[49m\u001b[43mi\u001b[49m\u001b[43m,\u001b[49m\u001b[43m \u001b[49m\u001b[38;5;241;43m1\u001b[39;49m\u001b[43m:\u001b[49m\u001b[43m]\u001b[49m\u001b[38;5;241;43m.\u001b[39;49m\u001b[43mto_numpy\u001b[49m\u001b[43m(\u001b[49m\u001b[43m)\u001b[49m\u001b[38;5;241;43m.\u001b[39;49m\u001b[43mastype\u001b[49m\u001b[43m(\u001b[49m\u001b[38;5;28;43mfloat\u001b[39;49m\u001b[43m)\u001b[49m\u001b[38;5;241;43m.\u001b[39;49m\u001b[43mreshape\u001b[49m\u001b[43m(\u001b[49m\u001b[38;5;241;43m-\u001b[39;49m\u001b[38;5;241;43m1\u001b[39;49m\u001b[43m,\u001b[49m\u001b[43m \u001b[49m\u001b[38;5;241;43m3\u001b[39;49m\u001b[43m)\u001b[49m\n\u001b[1;32m     42\u001b[0m     acc_times \u001b[38;5;241m=\u001b[39m start_time \u001b[38;5;241m+\u001b[39m np\u001b[38;5;241m.\u001b[39marange(acc_values\u001b[38;5;241m.\u001b[39mshape[\u001b[38;5;241m0\u001b[39m]) \u001b[38;5;241m/\u001b[39m rate\n\u001b[1;32m     43\u001b[0m     temp_df \u001b[38;5;241m=\u001b[39m pd\u001b[38;5;241m.\u001b[39mDataFrame(acc_values, columns\u001b[38;5;241m=\u001b[39m[\u001b[38;5;124m'\u001b[39m\u001b[38;5;124mx\u001b[39m\u001b[38;5;124m'\u001b[39m, \u001b[38;5;124m'\u001b[39m\u001b[38;5;124my\u001b[39m\u001b[38;5;124m'\u001b[39m, \u001b[38;5;124m'\u001b[39m\u001b[38;5;124mz\u001b[39m\u001b[38;5;124m'\u001b[39m])\n",
      "\u001b[0;31mValueError\u001b[0m: cannot reshape array of size 2 into shape (3)"
     ]
    }
   ],
   "source": [
    "import os\n",
    "import pandas as pd\n",
    "\n",
    "# Change this to match your local directory\n",
    "base_path = '/Users/andrewchen/dsc106/project4/exam_health/Data'\n",
    "exam = 'Final'\n",
    "sensor = 'HR'\n",
    "\n",
    "# Collect combined rows here\n",
    "combined_data = []\n",
    "\n",
    "# Loop through S1 to S10\n",
    "for i in range(1, 11):\n",
    "    subject = f'S{i}'\n",
    "    sensor_file = os.path.join(base_path, subject, exam, f\"{sensor}.csv\")\n",
    "\n",
    "    if not os.path.exists(sensor_file):\n",
    "        print(f\"⚠️ Missing: {sensor_file}\")\n",
    "        continue\n",
    "\n",
    "    df = pd.read_csv(sensor_file, header=None)\n",
    "    df.columns = ['timestamp', 'value']\n",
    "    df['subject'] = subject\n",
    "\n",
    "    combined_data.append(df)\n",
    "\n",
    "# Combine and save\n",
    "out_df = pd.concat(combined_data, ignore_index=True)\n",
    "out_df.to_csv(f\"{exam}_{sensor}.csv\", index=False)\n",
    "print(f\"✅ Created {exam}_{sensor}.csv with shape: {out_df.shape}\")\n"
   ]
  },
  {
   "cell_type": "code",
   "execution_count": 6,
   "metadata": {},
   "outputs": [
    {
     "name": "stdout",
     "output_type": "stream",
     "text": [
      "✅ Saved NaN-padded file: Final_HR.csv — shape: (25814, 11)\n"
     ]
    }
   ],
   "source": [
    "import os\n",
    "import pandas as pd\n",
    "import numpy as np\n",
    "\n",
    "# Settings\n",
    "base_path = '/Users/andrewchen/dsc106/project4/exam_health/Data'\n",
    "exam = 'Final'\n",
    "sensor = 'HR'\n",
    "sampling_rate = 1  # HR is sampled at 1 Hz\n",
    "\n",
    "subject_data = {}\n",
    "\n",
    "max_length = 0\n",
    "\n",
    "# Load HR data for each subject\n",
    "for i in range(1, 11):\n",
    "    subject = f'S{i}'\n",
    "    file_path = os.path.join(base_path, subject, exam, f\"{sensor}.csv\")\n",
    "\n",
    "    if not os.path.exists(file_path):\n",
    "        print(f\"⚠️ Missing: {file_path}\")\n",
    "        continue\n",
    "\n",
    "    values = pd.read_csv(file_path, header=None)[0]\n",
    "    subject_data[f\"{subject}_{sensor}\"] = values\n",
    "\n",
    "    max_length = max(max_length, len(values))\n",
    "\n",
    "# Build the full DataFrame with NaN padding\n",
    "df_out = pd.DataFrame({\n",
    "    'timestamp': np.arange(max_length) / sampling_rate\n",
    "})\n",
    "\n",
    "for col_name, values in subject_data.items():\n",
    "    padded = pd.Series(values).reindex(range(max_length))  # Automatically pads with NaN\n",
    "    df_out[col_name] = padded\n",
    "\n",
    "# Save the wide-format CSV\n",
    "df_out.to_csv(f\"Finished_Data/{exam}_{sensor}.csv\", index=False)\n",
    "print(f\"✅ Saved NaN-padded file: {exam}_{sensor}.csv — shape: {df_out.shape}\")\n"
   ]
  },
  {
   "cell_type": "code",
   "execution_count": null,
   "metadata": {},
   "outputs": [],
   "source": []
  }
 ],
 "metadata": {
  "kernelspec": {
   "display_name": "Python 3",
   "language": "python",
   "name": "python3"
  },
  "language_info": {
   "codemirror_mode": {
    "name": "ipython",
    "version": 3
   },
   "file_extension": ".py",
   "mimetype": "text/x-python",
   "name": "python",
   "nbconvert_exporter": "python",
   "pygments_lexer": "ipython3",
   "version": "3.12.4"
  }
 },
 "nbformat": 4,
 "nbformat_minor": 2
}
